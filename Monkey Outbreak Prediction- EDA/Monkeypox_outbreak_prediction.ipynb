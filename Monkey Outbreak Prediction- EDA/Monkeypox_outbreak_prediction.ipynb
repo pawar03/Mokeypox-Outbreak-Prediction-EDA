{
 "cells": [
  {
   "cell_type": "code",
   "execution_count": null,
   "id": "e12c69e8",
   "metadata": {},
   "outputs": [],
   "source": [
    "import numpy as np\n",
    "import pandas as pd\n",
    "from warnings import simplefilter\n",
    "simplefilter(\"ignore\")"
   ]
  },
  {
   "cell_type": "code",
   "execution_count": null,
   "id": "bec12b2e",
   "metadata": {},
   "outputs": [],
   "source": [
    "import seaborn as sns\n",
    "\n",
    "sns.set(style = \"darkgrid\")\n",
    "sns.color_palette(\"Paired\")\n",
    "\n",
    "\n",
    "import matplotlib.pyplot as plt\n",
    "%matplotlib inline\n",
    "\n",
    "from plotly.offline import init_notebook_mode, iplot\n",
    "# from plotly.graph_objs import go\n",
    "\n",
    "init_notebook_mode(connected=True)\n"
   ]
  },
  {
   "cell_type": "code",
   "execution_count": null,
   "id": "0f78018a",
   "metadata": {},
   "outputs": [],
   "source": [
    "plt.rcParams[\"figure.figsize\"] = (24, 8)\n",
    "plt.rcParams[\"figure.autolayout\"] = True\n",
    "plt.rcParams['figure.dpi'] = 300\n",
    "\n",
    "dfConfirmed = pd.read_csv('Monkey_Pox_Cases_Worldwide.csv')\n",
    "\n",
    "dfConfirmed.head()"
   ]
  },
  {
   "cell_type": "code",
   "execution_count": null,
   "id": "bd591326",
   "metadata": {},
   "outputs": [],
   "source": [
    "print(f'World Wise Confiermed Cases Data Set size : {dfConfirmed.shape}')\n",
    "print(f'No of Null values in the dataset : {dfConfirmed.isnull().any().sum()}')\n",
    "print(\"==========================Data set Info==========================\")\n",
    "print(dfConfirmed.info())\n",
    "print(f'======================Basic Stats of the Confirmed Cases ==============================\\n{dfConfirmed.describe()}')"
   ]
  },
  {
   "cell_type": "code",
   "execution_count": null,
   "id": "4af6dcca",
   "metadata": {},
   "outputs": [],
   "source": [
    "# We see that there seem to be  0 null values in the dataset.\n",
    "# Let's visualize this to get a better idea\n",
    "# plt.figure(figsize = (12,8))\n",
    "# sns.heatmap(dfConfirmed.isnull(), cmap = \"viridis\")\n",
    "\n",
    "plt.rcParams[\"figure.figsize\"]"
   ]
  },
  {
   "cell_type": "code",
   "execution_count": null,
   "id": "37a2416a",
   "metadata": {},
   "outputs": [],
   "source": [
    "dfConfirmed"
   ]
  },
  {
   "cell_type": "code",
   "execution_count": null,
   "id": "af00b486",
   "metadata": {},
   "outputs": [],
   "source": [
    "dfConfirmed.dtypes"
   ]
  },
  {
   "cell_type": "code",
   "execution_count": null,
   "id": "97fe3853",
   "metadata": {},
   "outputs": [],
   "source": [
    "dfConfirmed[\"Confirmed_Cases\"] = dfConfirmed[\"Confirmed_Cases\"].astype(\"int64\")\n",
    "dfConfirmed[\"Suspected_Cases\"] = dfConfirmed[\"Suspected_Cases\"].astype(\"int64\")\n",
    "dfConfirmed[\"Hospitalized\"] = dfConfirmed[\"Hospitalized\"].astype(\"int64\")\n",
    "dfConfirmed[\"Travel_History_Yes\"] = dfConfirmed[\"Travel_History_Yes\"].astype(\"int64\")\n",
    "dfConfirmed[\"Travel_History_No\"] = dfConfirmed[\"Travel_History_No\"].astype(\"int64\")\n",
    "dfConfirmed = dfConfirmed.sort_values(by = \"Confirmed_Cases\", ascending = False)\n",
    "dfConfirmed[\"Total\"] = dfConfirmed[\"Confirmed_Cases\"] + dfConfirmed[\"Suspected_Cases\"]\n",
    "topConf = dfConfirmed[:10]\n",
    "\n",
    "topConf.Country"
   ]
  },
  {
   "cell_type": "code",
   "execution_count": null,
   "id": "bfcf13c7",
   "metadata": {},
   "outputs": [],
   "source": [
    "#Counties with the most amount of Monkeypox Cases\n",
    "sns.barplot(data = topConf, x = \"Country\", y = \"Total\").set(title = \"Most Infected Counties with the Monkey Pox\")"
   ]
  },
  {
   "cell_type": "code",
   "execution_count": null,
   "id": "0df8c74f",
   "metadata": {},
   "outputs": [],
   "source": [
    "#Countries with the most Confirmed Cases\n",
    "# Most infected Countries\n",
    "\n",
    "sns.barplot(data = topConf, x = \"Country\", y = \"Confirmed_Cases\").set(title = \"Countires with the most Confirmed Monkey Pox Cases\", ylabel = \"Confirmed Cases\")"
   ]
  },
  {
   "cell_type": "code",
   "execution_count": null,
   "id": "002d45c2",
   "metadata": {},
   "outputs": [],
   "source": [
    "#Countires with Monkey pox cases victims having a travel history\n",
    "travelHistoryY = dfConfirmed.copy().sort_values(by = \"Travel_History_Yes\", ascending = False)[:10]\n",
    "travelHistoryY\n",
    "\n",
    "sns.barplot(data = travelHistoryY, x = \"Country\", y = \"Travel_History_Yes\").set(title = \"Countires with Monkey pox cases victims having a travel history\")"
   ]
  },
  {
   "cell_type": "code",
   "execution_count": null,
   "id": "e7096d6a",
   "metadata": {},
   "outputs": [],
   "source": [
    "#Travel History in the Most Infected Countries\n",
    "sns.barplot(data = topConf, x = \"Country\", y = \"Travel_History_Yes\").set(title = \"Monkey pox cases with a Travel History in the most Infected Countries\")"
   ]
  },
  {
   "cell_type": "code",
   "execution_count": null,
   "id": "1877ccb6",
   "metadata": {},
   "outputs": [],
   "source": [
    "#Hospitalized Cases of Monkey Pox in the most Infected Countries\n",
    "sns.barplot(data = dfConfirmed,  x = topConf.Country, y = topConf.Hospitalized).set(title = \"Hospitalized Cases in the most infected Countries\", ylabel = \"Hospitalized Cases\")"
   ]
  },
  {
   "cell_type": "code",
   "execution_count": null,
   "id": "ad8977b3",
   "metadata": {},
   "outputs": [],
   "source": [
    "hospitalized = dfConfirmed.copy()\n",
    "hospitalized = hospitalized.sort_values(by = \"Hospitalized\", ascending = False)[: 10]\n",
    "\n",
    "# print(f'Countires with the most Hospitalized Cases - \\n {(hospitalized[\"Country\"], hospitalized[\"Hospitalized\"])}')\n",
    "\n",
    "sns.barplot(data = hospitalized,  x = \"Country\", y = \"Hospitalized\").set(title = \"Countries with the most Hospitalized Monkey Pox Cases\", ylabel = \"Hospitalized Cases\")"
   ]
  },
  {
   "cell_type": "code",
   "execution_count": null,
   "id": "78404736",
   "metadata": {},
   "outputs": [],
   "source": [
    "#Daily Country Wise Confirmed Cases\n",
    "df = pd.read_csv('daily_monkeypox_cases.csv')\n",
    "df.head(5)"
   ]
  },
  {
   "cell_type": "code",
   "execution_count": null,
   "id": "0d872096",
   "metadata": {},
   "outputs": [],
   "source": [
    "#Confirmed Cases over the Past Week\n",
    "dfWeekly = df.iloc[:, -8:-1].sum()\n",
    "\n",
    "sns.lineplot(x = dfWeekly.index, y = dfWeekly)"
   ]
  },
  {
   "cell_type": "code",
   "execution_count": null,
   "id": "51e352ae",
   "metadata": {},
   "outputs": [],
   "source": [
    "#Confirmed Cases over the Past Month\n",
    "dfMonthly= df.iloc[:, -31:-1].sum()\n",
    "\n",
    "sns.lineplot(x = dfMonthly.index, y = dfMonthly).set(title = \"Confirmed Cases over the Past Month\")\n",
    "plt.xticks(rotation = 45)"
   ]
  },
  {
   "cell_type": "code",
   "execution_count": null,
   "id": "409c20db",
   "metadata": {},
   "outputs": [],
   "source": [
    "#World Wide Cases Detection\n",
    "dfWw = pd.read_csv('worldwide_monkeypox.csv')\n",
    "\n",
    "dfWw.head(5)"
   ]
  },
  {
   "cell_type": "code",
   "execution_count": null,
   "id": "57f1c46b",
   "metadata": {},
   "outputs": [],
   "source": [
    "#Check/Treat Missing Values\n",
    "print(f'The Dataset Shape {dfWw.shape}')\n",
    "print(\"==================================Missing Values=============================\")\n",
    "print(dfWw.isnull().sum())\n",
    "print(dfWw.info())\n",
    "print(\"==================================BASIC STATS=============================\")\n",
    "dfWw.describe()"
   ]
  },
  {
   "cell_type": "code",
   "execution_count": null,
   "id": "136d2be5",
   "metadata": {},
   "outputs": [],
   "source": [
    "sns.heatmap(dfWw.isnull(), cmap=\"viridis\")"
   ]
  },
  {
   "cell_type": "code",
   "execution_count": null,
   "id": "09c99131",
   "metadata": {},
   "outputs": [],
   "source": [
    "dfWw = dfWw.replace(np.nan, \"Unkown\")\n",
    "dfWw.isnull().sum()"
   ]
  },
  {
   "cell_type": "code",
   "execution_count": null,
   "id": "62ce873f",
   "metadata": {},
   "outputs": [],
   "source": [
    "dfWw.head()"
   ]
  },
  {
   "cell_type": "code",
   "execution_count": null,
   "id": "ed4ef308",
   "metadata": {},
   "outputs": [],
   "source": [
    "#Common Known Symptoms in Monkeypox patients\n",
    "commonSymp = dfWw[\"Symptoms\"].value_counts().sort_values(ascending = False)[1:][:10]\n",
    "commonSymp"
   ]
  },
  {
   "cell_type": "code",
   "execution_count": null,
   "id": "fc5b82de",
   "metadata": {},
   "outputs": [],
   "source": [
    "sns.barplot(x= commonSymp.index, y = commonSymp)"
   ]
  },
  {
   "cell_type": "code",
   "execution_count": null,
   "id": "66157e3a",
   "metadata": {},
   "outputs": [],
   "source": [
    "infectedAge= dfWw[\"Age\"].value_counts().sort_values(ascending=False)[1:][:7]\n",
    "infectedAge\n",
    "labels=list(infectedAge.index)\n",
    "labels"
   ]
  },
  {
   "cell_type": "code",
   "execution_count": null,
   "id": "32f486e7",
   "metadata": {},
   "outputs": [],
   "source": [
    "sns.barplot(x = infectedAge.index, y = infectedAge).set(title = \"Age Group in with the highesht Monkey Pox\")"
   ]
  },
  {
   "cell_type": "code",
   "execution_count": null,
   "id": "769b9e7e",
   "metadata": {},
   "outputs": [],
   "source": [
    "plt.figure(figsize = ( 11,11))\n",
    "plt.pie(infectedAge, labels=labels,autopct='%1.2f%%', shadow=.8, startangle = 90)\n",
    "plt.legend()"
   ]
  },
  {
   "cell_type": "code",
   "execution_count": null,
   "id": "fb1d9136",
   "metadata": {},
   "outputs": [],
   "source": []
  }
 ],
 "metadata": {
  "kernelspec": {
   "display_name": "Python 3 (ipykernel)",
   "language": "python",
   "name": "python3"
  },
  "language_info": {
   "codemirror_mode": {
    "name": "ipython",
    "version": 3
   },
   "file_extension": ".py",
   "mimetype": "text/x-python",
   "name": "python",
   "nbconvert_exporter": "python",
   "pygments_lexer": "ipython3",
   "version": "3.9.12"
  }
 },
 "nbformat": 4,
 "nbformat_minor": 5
}
